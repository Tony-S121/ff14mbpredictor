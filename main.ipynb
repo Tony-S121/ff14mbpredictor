{
 "cells": [
  {
   "cell_type": "code",
   "execution_count": null,
   "metadata": {},
   "outputs": [],
   "source": [
    "import tensorflow as tf"
   ]
  }
 ],
 "metadata": {
  "kernelspec": {
   "display_name": "Python 3.9.7 ('base')",
   "language": "python",
   "name": "python3"
  },
  "language_info": {
   "name": "python",
   "version": "3.9.7"
  },
  "orig_nbformat": 4,
  "vscode": {
   "interpreter": {
    "hash": "76d550dc38397ef6317c61a76d16dc8695ac97d649de6c6c7bcf1bd0ba8a35e8"
   }
  }
 },
 "nbformat": 4,
 "nbformat_minor": 2
}
